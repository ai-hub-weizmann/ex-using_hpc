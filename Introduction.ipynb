{
 "cells": [
  {
   "cell_type": "markdown",
   "metadata": {},
   "source": [
    "# Introduction\n",
    "## Overview\n",
    "In this tutorial we will learn how to fully utilize the resources available to us, be it a personal computer (PC) or a high-performance computiong cluster (HPC) to facilitate our AI (and generally computer-related) research. We will do this by leaving behind the jupyter notebook in favour of the python scripts, and delving into the world of the command-line interfaces.\n",
    "\n",
    "## So what's wrong with notebooks?\n",
    "Notebooks are a great tool for fast prototyping, testing, and exploring your data, but they are also very slow and inefficient in executing code.\n",
    "When we train an AI model, but also when we infer from it, the speed of execution may become a substantial bottleneck. There are many ways of optimizing the performance of any code, but the first and probably easiest is to transfer the code into the form of python scripts (or python modules).\n",
    "Scripts have many benefits. Not only do they run faster than notebooks, they also allow us to reuse pieces of code thus reducing the amount of code we actually have to write and rewrite.\n",
    "Unlike notebooks, scripts execute in a linear manner – from the top of the file to the bottom of it. \n",
    "This often results in less bugs and errors during runtime, since we can’t “jump back” and rerun a cell after changing some variable in a later cell.\n",
    "On the other hand, scripts also have some drawbacks. \n",
    "They are less “comfortable” as they are not interactive (in general), they take more time to run, and debugging them is usually more time-consuming.\n",
    "The best approach, usually, is using a mixture of the two:\n",
    "Notebooks should be used at first to play with the code, explore the data, and test algorithms.\n",
    "When your project runs into “production mode” – when you have to train your model or analyze a large dataset, the code should be migrated to script form and be used from there.\n",
    "\n",
    "## OK, but what will we do?\n",
    "The tutorial is divided into multiple chapters. Most chapters can be done independently of previous chapters, but for the most in-depth understanding it is recommendedto follow the tutorial from start to finish.\n",
    "1. **Chapter 1 - Writing Python scripts**\n",
    "    In this chapter we will learn how to write and run a python script.\n",
    "    We will rewrite and run the KNN tutorial in the form of a script.\n",
    "\n",
    "2. **Chapter 2 - Introduction to the linux command line**\n",
    "    We will learn about the linux command line, how to navigate our file system without a graphical user intervace, and some other useful written commands.\n",
    "\n",
    "3. **Chapter 3 - Basic Bash**\n",
    "    We will learn to write simple bash scripts to automate some of the work for us. This will be very important when submitting jobs to the HPC later.\n",
    "\n",
    "3. **Chapter 4 - HPC theory and application**\n",
    "    On the theoretical side, we will learn what is an HPC, how it is built, what is the meaning of the different elements of it's architecture, and also why we care about all of this.\n",
    "    We will learn about resource management and the scheduler, together with some common good practices.\n",
    "    Then on to the practical side \n",
    "\n",
    "4. **Chapter 5 - Advanced python scripting**\n",
    "    We will learn to create, define, and use our own python environment. ***- Under construction***\n",
    "\n",
    "5. **Dealing with errors**\n",
    "    It is inevitable that while writing, training, or using any python code (sometimes many) errors and warning messages will pop up.\n",
    "    We will, therefore, try to see and deal with as many common errors and wornings as possible.\n",
    "    This is not a chapter in itself, because we will encounter, and deal with, these errors throughout the whole tutorial.\n",
    "    Our main goal in this respect is to familiarize with pythons errors, and see them as friends instead of foes.\n",
    "\n",
    "#### A note\n",
    "The goal of this tutorial is not to learn the best practices of writing python code (even though we will try to write good and readable code), but rather to have a simple yet instructing hands-on example of how to break free of the jupyter notebook, as well as utilizing high-performance computing resources.\n",
    "For a better, in-depth, tutorial on writing good python and packagin your code see [this tutorial on coding practices](https://github.com/ai-hub-weizmann/ex-coding-practices/tree/master)."
   ]
  },
  {
   "cell_type": "markdown",
   "metadata": {},
   "source": []
  }
 ],
 "metadata": {
  "kernelspec": {
   "display_name": "ML",
   "language": "python",
   "name": "python3"
  },
  "language_info": {
   "codemirror_mode": {
    "name": "ipython",
    "version": 3
   },
   "file_extension": ".py",
   "mimetype": "text/x-python",
   "name": "python",
   "nbconvert_exporter": "python",
   "pygments_lexer": "ipython3",
   "version": "3.8.19"
  }
 },
 "nbformat": 4,
 "nbformat_minor": 2
}
