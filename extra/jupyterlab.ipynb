{
 "cells": [
  {
   "cell_type": "markdown",
   "metadata": {},
   "source": [
    "There are plenty of tutorial on the web how to use Jupyter.\n",
    "This mini-tutorial is intended as a refresher, and to clarify some instructions in the main tutorial chapters."
   ]
  },
  {
   "cell_type": "markdown",
   "metadata": {},
   "source": [
    "## To access WEXAC's JupyterLab server:\n",
    "\n",
    "* If this is your first time logging into the JupyterLab server, begin by following the steps in https://hpcwiki.weizmann.ac.il/en/home/ai_hub, under *2. Working with WEXAC Jupyter hub & aihub_env Conda*.\n",
    "After you complete all the stpes and everything works, then feel free to continue this mini-tutorial.\n",
    "\n",
    "* navigate to https://login3.wexac.weizmann.ac.il:8000/hub/spawn. (You have to be connected either directly to the weizmann's LAN network, or through the VPN!)\n",
    "* You will be prompted for identification. You should use your Weizmann username+password. \n",
    "<p align=\"center\">\n",
    "  <img src=../images/identification.png />\n",
    "</p>\n",
    "\n",
    "* You will be asked to choose the type of job you require. Chose the type most appropriate for your needs (for this tutorial, unless otherwise specified, 1 GPU with 6 CPU cores and 64 GB RAM should suffice). Don't forget that you **should not and can not** run calculations on the login node! \n",
    "<p align=\"center\">\n",
    "  <img src=../images/jobtype.png />\n",
    "</p>\n",
    "\n",
    "Your job will then be created, and you will be redirected to the JupyterLab server. This step might take some time, depending on how many people are trying to access JupyterLab. \n",
    "* If the URL of the JupyterLab server looks like this: `https://login3.wexac.weizmann.ac.il:8000/user/\\<user_name\\>/tree?` then you have been redirected to JupyterHub instead of JupyterLab. To fix this and follow with the rest of the tutorial, replace `tree?` by `lab`.\n",
    "Your screen should look like this (with either light or dark colors)\n",
    "<p align=\"center\">\n",
    "  <img src=../images/lab_launcher2.png style=\"width:75%; height:auto;\" />\n",
    "</p>\n",
    "\n",
    "If you get any errors or issues, first try resolving them with the known problems in the following page: https://hpcwiki.weizmann.ac.il/en/home/apps/jupyter and only after this fails contact your tutor for help."
   ]
  },
  {
   "cell_type": "markdown",
   "metadata": {},
   "source": [
    "### Lab layout\n",
    "On the top bar there are some useful menus for manipulating files, changing the window view and a general settings bar.\n",
    "Two important menus you should notice are `Kernel` and `Run`. These menus have the options (and keyboard shortcuts) for changing the code environment (between conda environments, or between Python, R, etc), restarting the kernel (the part that actually runs the code) in case of a failure, actually running your code and other usefull tools. Feel free to explore these.\n",
    "\n",
    "On the left you have (from top to bottom) the *file browser* that allows you browsing your directory tree, the *running terminals and kernels* that shows all the windows and files that are currently consuming resources (***note that closing a window doesn't stop the code running in jupyter!***), the *table of contents* that allows navigating between chapters of the currently displayed file, and the *extension manager* that allows do download, install, and remove useful extensions from you jupyter lab.\n",
    "\n",
    "On the main part of the display the louncher should appear. If no file is open the launcher will appear, as well as if you click on any of the `+` buttons. \n",
    "The launcher allows you to easily open a jupyter notebook running a specific environment (top row), an empty script file that runs with a specific environment (middle row), or some other helpful utilies such as an empty text file or a terminal shell (bottom row).\n",
    "\n",
    "On the right are two buttons the *property inspector* and the *debugger*. These are outside the scope of this manual, so in case of interest you should look them up online."
   ]
  },
  {
   "cell_type": "markdown",
   "metadata": {},
   "source": [
    "## Opening a new python file:\n",
    "\n",
    "1. Navigate to the desired directory through the file explorer on the left\n",
    "2. Option #1\n",
    "    1. Open a \"Launcher\" window by clicking on either `+` symbol\n",
    "    2. Click on the \"Python file\" symbol to create a new, untiteled, python file.\n",
    "    3. Right-click on the new file in the finder, click on \"Rename\" and give it a meaningful name. \n",
    "3. Option #2\n",
    "    1. Right click anywhere on the file explorer and select \"New File\".\n",
    "    <p align=\"center\">\n",
    "        <img src=\"../images/newfile.png\" style=\"width:25%; height:auto;\" />\n",
    "    </p>\n",
    "    2. Enter a meaningful name for the file. *Make sure to change the file ending to `.py`!*"
   ]
  },
  {
   "cell_type": "markdown",
   "metadata": {},
   "source": []
  }
 ],
 "metadata": {
  "language_info": {
   "name": "python"
  }
 },
 "nbformat": 4,
 "nbformat_minor": 2
}
