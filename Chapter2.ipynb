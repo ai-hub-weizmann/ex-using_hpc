{
 "cells": [
  {
   "cell_type": "markdown",
   "metadata": {},
   "source": [
    "# Chapter 2 - The Linux command line"
   ]
  },
  {
   "cell_type": "markdown",
   "metadata": {},
   "source": [
    "Most high-performance computing (HPC) resources, be it working stations, clusters, or clouds use some kind or another of linux as their operating systems.\n",
    "Furthermore, since graphical interfaces are heavy and slow, most HPCs don't employ one. Instead they opt for the more basic but lighter, faster and (usually more) powerful option of the command line interface.\n",
    "In the beginning it might seem frightening, and you might feel a bit lost without the usual and comfortable visual elements. With time you will get used to it, manage to do much more complex things in much less time, automate some boring tasks, and maybe even like the command line.\n",
    "So, let's keep an open mind and introduce ourselves into this new world."
   ]
  },
  {
   "cell_type": "markdown",
   "metadata": {},
   "source": [
    "### Some terminology\n",
    "When learning to work in the linux command line we might talk about things unfamiliar to many of us. We should, therefore, develop a common language to ensure we understand each other.\n",
    "\n",
    "* **A Shell** is the interface to the operatin system (OS). It is the channel through which we can send commands to the OS so that they can be executed.\n",
    "\n",
    "* **The Terminal** is a program that runs a shell. In the terminal we actually write our commands to execute. In computers with Linux and Mac a terminal (usually called \"terminal\") is installed by default. In Windows computers there is a terminal called \"powershell\" that communicates with the OS, and if we want a terminal to any other shell we have to download and install one from the internet ([MobaXterm](https://mobaxterm.mobatek.net/) is recommended). You can also use the terminal in your [JupyterLab](https://appsrv.wexac.weizmann.ac.il/).\n",
    "\n",
    "* **Linux** is an operating system, like Windows or MacOS, and the most common (almost exclusive) operating system in HPCs. There are many variations (or \"flavors\" or \"distributions\") of the Linux OS, but you usually shouldn't worry too much about their differences.\n",
    "Though it is available for Linux OS, most HPCs don't have a graphical interface, thus we are left working with the command-line interface\n",
    "\n",
    "* **The Command line interface (CLI)** is a fully textual way of interacting with a computer program, in our case the operating system itself. The interaction is done by means of entering lines of text that can be interpreted. Most modern CLIs are interactive, some allowing even certain interactions to be carried out by the mouse.\n",
    "\n",
    "* **A directory** is another name for a folder.\n",
    "\n",
    "* **Directory tree** or *dirtree* is a hierarchy of directories. A directory inside the current directory is called a *child*, and a directory that contains the current directory is called a *parent*.\n",
    "\n",
    "* **The root directory** is the \n",
    "\n",
    "* **A path** is a string of characters used to identify and locate a file or directory.\n",
    "\n",
    "* **Absolute path** is a string that defines a path from the root directory. Absolute paths **always** begin with a `/`, and they look like `/dir1/dir2/dir3/file.ext`.\n",
    "* **Relative path** is a string that defines a path from the current directory. Relative paths **never** have a `/` in their beginning, and they look like `dir2/dir3/file.ext`\n",
    "\n",
    "* **An Alias** is a shorthand for a longer command or sequence of commands. Aliases are usually user-defined (we'll see how to define aliases later), but some are pre-defined in the OS.\n",
    "\n"
   ]
  },
  {
   "cell_type": "markdown",
   "metadata": {},
   "source": [
    "### Some basic commands\n",
    "One of the most basic thing we do in a computer is navigate the directory tree. We are used to double-click on a folder to open it. In Linux we have to use commands to do this let's see how:\n",
    "* `pwd` - print working (current) directory to standard output.\n",
    "* `cd <dir_path>` - `cd` stands for \"change directory\". This command moves you to the directory specified by the path (assuming it exists). The directory path can be either absolute or relative. Your personal home directory is aliased as `~`, so `cd ~` will always move you to your home directory.\n",
    "* `mkdir <dir_path>` - `mkdir` stands for \"make directory\". This command creates a directory specified by the path (the last section of the path will always be the directory that is created), assuming it does not exist. Creating the directory **does not** move you into the new directory!\n",
    "* `rmdir <dir_path>` - `rmdir` stands for \"remove directory\". This command removes directories if they are empty (no files or directories are located inside the removed directory).\n",
    "* `ls <dir_path>` - `ls` stands for \"list\". This command is used to list all files and folders in the specified directory. If no directory is given, the default behavior is to list the contents of the current directory.\n",
    "* `touch <file_path>` - makes an empty file at the `<file_path>` location (with the name of the file being the last section of the path). If `<file_path>` exists it updates the files time stamp instead.\n",
    "*note* that you may add any extension to the file name, but this does not enforce any actual format to the file itself!\n",
    "* `rm <file_path>` - `rm` stands for \"remove\". This command deletes the `<file_path>` file.\n",
    "* `cat <file_path>` - reads the specified file and prints its contents to the standard output.\n",
    "* `less <file_path>` - opens the specified file, only for reading. Navigation inside the file is identical to the cursor navigation in vim (discussed below). To exit the file and return to the terminall press `q`.\n",
    "* `echo` - prints whatevera arguments are passed as standard output.\n",
    "* `grep <patter> <file_path>` - finds the specified pattern in the specified file.\n",
    "\n",
    "***Note*** - **All** file deletion in the command line are **final** and **cannot** be reverted, unless a backup exists somewhere. **THERE IS NO *TRASH* BIN!!!**\n",
    "\n",
    "Let's try using this!\n",
    "\n",
    "1. Move to you home directory.\n",
    "2. Create a new directory, and call it `test1`.\n",
    "3. From your home directory create another directory `test2` inside `test1`.\n",
    "4. Move into `test2` and list its contents. \n",
    "4. Create two empty files `file1.txt` and `file2.svg` inside `test2`.\n",
    "4. List the contents of `test2`.\n",
    "5. From `test2` create a new directroy `test3` and an empty file `file3.pdf` inside of `test1`.\n",
    "6. Move back to `test1` and list its contents.\n",
    "6. Remove the `file3.pdf` file.\n",
    "7. Move back to your home directory, and list the contents of `test1` from there.\n",
    "8. Finaly, from the home directory remove `test3`, then list again the contents of `test1`.\n",
    "\n",
    "Now we know how to navigate a directory tree, create and remove directories. In out exploration you might have noticed that in order to move one directory back we had to write quite a long path. For example to move from the `test2` to `test1` we had to write `cd ~/test1`.\n",
    "There is a better way, which can be accessed by using two \"special\" directories:\n",
    "* `.` - a single dot marks the current directory.\n",
    "* `..` - two dots mark the parent directory.\n",
    "\n",
    "This means that writing `cd ..` would move you from `test2` back to `test1`, writing `cd ../..` would move you from `test2` back to your home directory, and writing `cd .` would move you from the current drectory to the current directory (essentially not moving you at all).\n",
    "\n"
   ]
  },
  {
   "cell_type": "markdown",
   "metadata": {},
   "source": [
    "### Command chaining and output redirection\n",
    "\n",
    "Most of the commands we saw above print something to *standard output*. By default this prints text on the screen.\n",
    "Often we would like to wither pass it as the input to another command (command chaining) or  store this text in a file (output redirection).\n",
    "* **Redirecting output** - we can write the standard output to a file in the following way: `command >/>> <path to file>`. If we chose `>` then the output will be written to the specified file replacing the contents of the file if they exist. Choosing `>>` appends the output to the end of the file. In both cases the file is created if it doesn't exist yet.\n",
    "We can also redirect the contents of a file as input to a command by the doing `command < <path to file>`.\n",
    "* **Command chaining** - we can execute multiple commands sequentially or simultaniously utilizing the outputs of previous commands as input or choce criteria for later commands. This is a very powerful and quite complex technique, so we will taste its power by a specific (and very usefull) type of chaining called **piping**.\n",
    "    * Piping is performed by separating commands with the `|` symbol. For example if we sould like to print the number of unique words in a file called `words.txt` we could chain the `cat` command with the `uniq` command which finds uniq words, and then with the `wc` command which counts words in the following way: `cat words.txt | uniq | wc -w`."
   ]
  },
  {
   "cell_type": "markdown",
   "metadata": {},
   "source": [
    "### Text editors\n",
    "Editing text from a shell environment is, by any means, not the best way to edit text files.\n",
    "Nevertheless, some times it is required. Either because no comfortable and/or good text editor is available through the HPC, or because we want to do small changes in a file and moving to another application, locating the file in question, and editing it is more cumbersome than just manipulating the file through the shell.\n",
    "For these reasons, we will learn to to use one text editor.\n",
    "You should be aware that, among programmer communities, there is a very long \"war\" between people that preffer different text editors. You can read more about the *editor wars* [here](https://en.wikipedia.org/wiki/Editor_war). \n",
    "Regardless, we will use **vim** as our editor of choice.\n",
    "\n",
    "Vim is a fully textual editor. This means that, unlike most text editors you might be familiar with, like MSWord, Pages, or even VSCode, the mouse plays no role in navigating and manipulating the files (this behavior can be changed by advanced configuration, which we will **not** do here). \n",
    "We therefore will have to learn the basics of keyboard navigation and modification.\n",
    "\n",
    "* **Opening a file**.\n",
    "In order to open a file with vim simply enter `vim <file path>` in the terminal.\n",
    "*note* - opening a non-existing file will crete the file. no suffixes are automatically appended, so don't forget to add them yourself.\n",
    "\n",
    "* **Saving and closing a file**.\n",
    "Since the mouse doesn't play a role in vim, there are no save or exit buttons to be pressed. Saving and exiting are perforemd by pressing `:` and then the key (or keys) appropriate for the requirfed operation:\n",
    "    * `q` - quit the file (exit)\n",
    "    * `w` - write the file (save)\n",
    "    * `!` - force operation (don't ask for confirmation).\n",
    "    * `sav <new_name>` - saves the file under a different name\n",
    "So, if you want to save and quit without being prompted to ensure your choice, you would press `:wq!`, and for quitting withot saving `:q!`.\n",
    "\n",
    "#### **Editor modes**\n",
    "The **vim** editor has multiple modes, each with a different purpose that allows different access and shortucts to the file. We will look only at two such modes: *Normal mode*, and *Insert mode*.\n",
    "* **Normal mode** - This mode is the one you will spend most of your time on. It is active by default when you open a file with vim. It can always be accessed again by prfessing `Esc`.\n",
    "This mode is meant mostly for vieweing and navigating through text, threfore most key presses will not behave in the way you might expect. Let's explore some examples\n",
    "    * Cursor movement - You can move a row down by pressing `j`, a row up by pressing `k`, a character to the left by pressing `h`, a character to the right by pressing `l`, to the beginning of the next word by `w`, to the beginning of the last word by pressing `b`, and to the ened of the word by pressing `e`.\n",
    "    * Text manipulation - You can delete (actually cut) the whole row by prfessing `dd`, a single character by standing on it and pressing `x`, or replace it by pressing `r` followed by the replacing character. You can copy a whole line by prfessing `yy`, a single world by pressing `yiw`, or a single letter by pressing `yl`. Pasting is as easy as pressing `p`, and in case you want to undo something just press `u`.\n",
    "\n",
    "* **Insert mode** - This mode is intended for inserting text into the file. It can be accessed by pressing the `i` key from the normal mode.\n",
    "While in insert mode, the keyboard works regularly, and it cannot be used for navigation or special text manipulations.\n",
    "To exit Insert mode back to the Normal mode just press `Esc`.\n",
    "\n",
    "Let's play with this a little:\n",
    "\n",
    "1. First of all we will need a directory tree to play with. For this you should (if you haven't already) clone the git repository of the exercise. You can do this by typing `git clone <span style=\"color:red\">update link when exercise is updated!</span>.\n",
    "2. Now enter the `Chp_2` directory and open the file `lorem_vimpsum.txt`\n",
    "3. Test the different commands mentioned above.\n",
    "4. Notice the difference between short lines with line-breaks, and very long lines that get wrapped up to the size of the screen."
   ]
  },
  {
   "cell_type": "markdown",
   "metadata": {},
   "source": [
    "### Modifying command behavior with flags\n",
    "In the above section we utilized some commands with their default behavior. Often this will not be enough and we will want to modify the way a command operates. For example, try to remove a non-empty directory (for example `test2`) with the `rmdir` function. This will fail because the directory is not empty, but we have many files inside of `test2` and we don't want to remove each of them individually before using `rmdir`, so what can we do?\n",
    "Luckily we can modify the way `rm` works to remove directories, and all of their content by utilizing *flags*.\n",
    "**Flags** are options or parameters that we can pass to a command that change the way they work. \n",
    "Flags can consist of either a single letter, or of keyword (a long string without spaces). If the flag is a single letter it requires a `-` before it, and if it is a string it requires a `--` before it (multiple single-letter flags can be joined into short \"string\", but so long as there is only one `-` sign each letter will be processed separately).\n",
    "\n",
    "Below are some examples, but the actual usage of flags for each command has to be looked up!\n",
    "* **--help** is a keyword flag that (usually) lists a short summary of the functionality the command performs. It usually will list the most commonnly used flags for the command.\n",
    "* #### Flags for `rm` command\n",
    "    * **-r** is a letter flag that (usually) signifies \"recursively\". When combined with the `rm` commad it allows for deletion of whole directories with all of their content.\n",
    "    * **-f** is a letter flag that (usually) signifies \"force\", meaning that the action will be enforced without prompting the user for permission. When combined with the `rm` command it deletes files without asking the user if they are sure the file needs to be deleted. \n",
    "    * *note* - This is very usefull, but also very dangerous! Use with caution.\n",
    "* #### Flags for `rm` command\n",
    "    * **-a** or **--all** are flags that make the command work on all files and directories in the path. When combined with the `ls` command it lists also *hidden* files.\n",
    "    * **-l** lists files in a long format which includes (among other things) the permissions, ower, date of modification, and size of the listed files.\n",
    "    * **-h** displays file sizes in human-readable format, when combined with -l flag.\n",
    "    \n",
    "***note*** You can always access a comprehensive list of all the options, flags, and use cases of a function by accessing its manual either on the internet, or by calling `man <function name>`."
   ]
  },
  {
   "cell_type": "markdown",
   "metadata": {},
   "source": [
    "Let's try using this!\n",
    "\n",
    "1. Now inside `Chp_2` enter the directory called `dirtree`. \n",
    "2. Explorfe the directory and *all* the subdirectories in the tree.\n",
    "3. When you find the instructions, complete them and submit them to your tutor.\n",
    "\n",
    "You will need to use everything you learned in this chapter!"
   ]
  },
  {
   "cell_type": "markdown",
   "metadata": {},
   "source": []
  }
 ],
 "metadata": {
  "kernelspec": {
   "display_name": "ML",
   "language": "python",
   "name": "python3"
  },
  "language_info": {
   "codemirror_mode": {
    "name": "ipython",
    "version": 3
   },
   "file_extension": ".py",
   "mimetype": "text/x-python",
   "name": "python",
   "nbconvert_exporter": "python",
   "pygments_lexer": "ipython3",
   "version": "undefined.undefined.undefined"
  }
 },
 "nbformat": 4,
 "nbformat_minor": 2
}
