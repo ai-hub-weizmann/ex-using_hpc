{
 "cells": [
  {
   "cell_type": "code",
   "execution_count": null,
   "metadata": {},
   "outputs": [],
   "source": [
    "import numpy as np\n",
    "import multiprocessing as mp\n",
    "import time\n",
    "import sys"
   ]
  },
  {
   "cell_type": "code",
   "execution_count": null,
   "metadata": {},
   "outputs": [],
   "source": [
    "def slow_function(_):\n",
    "    \"\"\"A simple function that runs slower in Jupyter.\"\"\"\n",
    "    np.random.seed()  # Avoid repeatability in multiprocessing\n",
    "    A = np.random.rand(1000, 1000)\n",
    "    B = np.random.rand(1000, 1000)\n",
    "    return np.linalg.slogdet(A @ B)[1]  # Compute the log determinant"
   ]
  },
  {
   "cell_type": "code",
   "execution_count": null,
   "metadata": {},
   "outputs": [],
   "source": [
    "if __name__ == \"__main__\":\n",
    "    num_tasks = 10  # Reduce in Jupyter, increase in a script\n",
    "\n",
    "    start = time.time()\n",
    "    \n",
    "    # Detect if running in Jupyter\n",
    "    in_jupyter = \"ipykernel\" in sys.modules\n",
    "\n",
    "    if in_jupyter:\n",
    "        # Simulate overhead in Jupyter (worse multiprocessing performance)\n",
    "        results = list(map(slow_function, range(num_tasks)))\n",
    "    else:\n",
    "        # Efficient multiprocessing in script mode\n",
    "        with mp.Pool(processes=mp.cpu_count()) as pool:\n",
    "            results = pool.map(slow_function, range(num_tasks))\n",
    "\n",
    "    end = time.time()\n",
    "    \n",
    "    print(f\"Time taken: {end - start:.2f} seconds\")\n",
    "    print(f\"Sum of results: {sum(results)}\")"
   ]
  }
 ],
 "metadata": {
  "language_info": {
   "name": "python"
  }
 },
 "nbformat": 4,
 "nbformat_minor": 2
}
